{
 "cells": [
  {
   "cell_type": "raw",
   "metadata": {},
   "source": [
    "Question 3a."
   ]
  },
  {
   "cell_type": "code",
   "execution_count": 2,
   "metadata": {
    "collapsed": true
   },
   "outputs": [],
   "source": [
    "import numpy as np "
   ]
  },
  {
   "cell_type": "code",
   "execution_count": 3,
   "metadata": {
    "collapsed": false
   },
   "outputs": [],
   "source": [
    "#defining matrices A, B, C \n",
    "A = np.array([[0,2,4],[1,3,5]])\n",
    "B = np.array([[3,0,0], [3,3,0], [3,3,3]])\n",
    "C = np.array([[-2,0,0],[0,-2,0],[0,0,-2]])"
   ]
  },
  {
   "cell_type": "code",
   "execution_count": 4,
   "metadata": {
    "collapsed": false
   },
   "outputs": [],
   "source": [
    "#defining function ipmstack\n",
    "def ipmstack(A, B, C):\n",
    "    third = np.hstack((B, np.zeros((B.shape)), C))\n",
    "\n",
    "    second = np.hstack((A, np.zeros((A.shape[0], third.shape[1]-A.shape[1]))))\n",
    "\n",
    "    identity = np.identity(A.T.shape[0])\n",
    "    \n",
    "    first = np.hstack((np.zeros((A.T.shape[0], third.shape[1]-A.T.shape[1]-identity.shape[1])),A.T, identity))\n",
    "    \n",
    "    D = np.vstack((first, second, third))\n",
    "    \n",
    "    return D "
   ]
  },
  {
   "cell_type": "code",
   "execution_count": 6,
   "metadata": {
    "collapsed": false
   },
   "outputs": [
    {
     "name": "stdout",
     "output_type": "stream",
     "text": [
      "Q3a.\n",
      "[[ 0.  0.  0.  0.  0.  1.  1.  0.  0.]\n",
      " [ 0.  0.  0.  0.  2.  3.  0.  1.  0.]\n",
      " [ 0.  0.  0.  0.  4.  5.  0.  0.  1.]\n",
      " [ 0.  2.  4.  0.  0.  0.  0.  0.  0.]\n",
      " [ 1.  3.  5.  0.  0.  0.  0.  0.  0.]\n",
      " [ 3.  0.  0.  0.  0.  0. -2.  0.  0.]\n",
      " [ 3.  3.  0.  0.  0.  0.  0. -2.  0.]\n",
      " [ 3.  3.  3.  0.  0.  0.  0.  0. -2.]]\n"
     ]
    }
   ],
   "source": [
    "x = ipmstack(A, B, C)\n",
    "print('Q3a.')\n",
    "print(x)"
   ]
  },
  {
   "cell_type": "code",
   "execution_count": null,
   "metadata": {
    "collapsed": true
   },
   "outputs": [],
   "source": []
  },
  {
   "cell_type": "code",
   "execution_count": null,
   "metadata": {
    "collapsed": true
   },
   "outputs": [],
   "source": []
  }
 ],
 "metadata": {
  "anaconda-cloud": {},
  "kernelspec": {
   "display_name": "Python [default]",
   "language": "python",
   "name": "python3"
  },
  "language_info": {
   "codemirror_mode": {
    "name": "ipython",
    "version": 3
   },
   "file_extension": ".py",
   "mimetype": "text/x-python",
   "name": "python",
   "nbconvert_exporter": "python",
   "pygments_lexer": "ipython3",
   "version": "3.5.2"
  }
 },
 "nbformat": 4,
 "nbformat_minor": 1
}
