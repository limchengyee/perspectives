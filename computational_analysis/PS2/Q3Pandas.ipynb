{
 "cells": [
  {
   "cell_type": "code",
   "execution_count": 204,
   "metadata": {
    "collapsed": true
   },
   "outputs": [],
   "source": [
    "import pandas as pd\n",
    "import numpy as np"
   ]
  },
  {
   "cell_type": "code",
   "execution_count": 430,
   "metadata": {
    "collapsed": false
   },
   "outputs": [],
   "source": [
    "# Question 3b(i)\n",
    "df = pd.read_csv(\"popagesex2015.csv\", header = 4, \n",
    "                 names=['gender', 'age', 'pop10','pop11','pop12', 'pop13',\n",
    "                        'pop14', 'pop15'],\n",
    "                 converters = {'gender': str}).replace({\"gender\" : {'0': \"both\", '1': \"male\", '2': \"female\"}})[\n",
    "                 pd.read_csv(\"popagesex2015.csv\", header = 4,names=['gender', 'age', 'pop10','pop11','pop12', 'pop13','pop14', 'pop15'])['age']<999\n",
    "                             ].set_index([\"gender\", \"age\"])"
   ]
  },
  {
   "cell_type": "code",
   "execution_count": 438,
   "metadata": {
    "collapsed": false
   },
   "outputs": [],
   "source": [
    "# Question 3b(ii)\n",
    "gender_prop = df.ix[['male', 'female']].groupby(level =['gender']).sum()/df.ix[['male', 'female']].sum()"
   ]
  },
  {
   "cell_type": "code",
   "execution_count": 437,
   "metadata": {
    "collapsed": false
   },
   "outputs": [
    {
     "data": {
      "text/plain": [
       "(101,)"
      ]
     },
     "execution_count": 437,
     "metadata": {},
     "output_type": "execute_result"
    }
   ],
   "source": [
    "# Question 3b(iii)\n",
    "pop_by_age = df.ix['both'].sum(axis=1).groupby(level = 'age').sum()/df.ix['both'].sum(axis=1).sum()\n",
    "pop_by_age.shape"
   ]
  },
  {
   "cell_type": "code",
   "execution_count": null,
   "metadata": {
    "collapsed": true
   },
   "outputs": [],
   "source": []
  }
 ],
 "metadata": {
  "anaconda-cloud": {},
  "kernelspec": {
   "display_name": "Python [conda root]",
   "language": "python",
   "name": "conda-root-py"
  },
  "language_info": {
   "codemirror_mode": {
    "name": "ipython",
    "version": 3
   },
   "file_extension": ".py",
   "mimetype": "text/x-python",
   "name": "python",
   "nbconvert_exporter": "python",
   "pygments_lexer": "ipython3",
   "version": "3.5.2"
  }
 },
 "nbformat": 4,
 "nbformat_minor": 1
}
