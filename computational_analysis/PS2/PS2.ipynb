{
 "cells": [
  {
   "cell_type": "code",
   "execution_count": 171,
   "metadata": {
    "collapsed": true
   },
   "outputs": [],
   "source": [
    "import numpy as np\n",
    "%matplotlib inline"
   ]
  },
  {
   "cell_type": "raw",
   "metadata": {},
   "source": [
    "Question 1a."
   ]
  },
  {
   "cell_type": "code",
   "execution_count": 172,
   "metadata": {
    "collapsed": true
   },
   "outputs": [],
   "source": [
    "def firsthalf(a):\n",
    "    if len(a)>1:\n",
    "        b = a[:(len(a)//2)]\n",
    "        return b"
   ]
  },
  {
   "cell_type": "raw",
   "metadata": {},
   "source": [
    "Question 1b."
   ]
  },
  {
   "cell_type": "code",
   "execution_count": 173,
   "metadata": {
    "collapsed": true
   },
   "outputs": [],
   "source": [
    "def backward(a):\n",
    "    reverse_a = a[::-1]\n",
    "    return reverse_a"
   ]
  },
  {
   "cell_type": "raw",
   "metadata": {},
   "source": [
    "Question 1c."
   ]
  },
  {
   "cell_type": "code",
   "execution_count": 174,
   "metadata": {
    "collapsed": false
   },
   "outputs": [],
   "source": [
    "def pig_latin(a):\n",
    "    a = a.lower()\n",
    "    vowel = ['a', 'e', 'i', 'o', 'u']\n",
    "    hay = 'hay'\n",
    "    ay = 'ay'\n",
    "    i = 0 \n",
    "    if a[i] in vowel:\n",
    "        pig = a + hay\n",
    "    else:\n",
    "        for index in range(len(a)):\n",
    "            if a[i] not in vowel:\n",
    "                i += 1       \n",
    "        b = a[:i]\n",
    "        c = a[i:]\n",
    "        pig = c + b + ay \n",
    "    return pig "
   ]
  },
  {
   "cell_type": "raw",
   "metadata": {},
   "source": [
    "Question 1d. "
   ]
  },
  {
   "cell_type": "code",
   "execution_count": 175,
   "metadata": {
    "collapsed": false
   },
   "outputs": [],
   "source": [
    "grid = np.load('grid.npy')"
   ]
  },
  {
   "cell_type": "code",
   "execution_count": 193,
   "metadata": {
    "collapsed": true
   },
   "outputs": [],
   "source": [
    "def max_prod(grid):\n",
    "    # largest vertical products \n",
    "    vert1 = grid[0:17]\n",
    "    vert2 = grid[1:18]\n",
    "    vert3 = grid[2:19]\n",
    "    vert4 = grid[3:20]\n",
    "    vertical_product = np.amax(vert1 * vert2 * vert3 * vert4)\n",
    "    \n",
    "    # largest horizontal products \n",
    "    hori1 = grid[0:20,0:17]\n",
    "    hori2 = grid[0:20,1:18]\n",
    "    hori3 = grid[0:20,2:19]\n",
    "    hori4 = grid[0:20,3:20]\n",
    "    horizontal_product = np.amax(hori1 * hori2 * hori3 * hori4 )\n",
    "    \n",
    "    #diagonal down products\n",
    "    diag_down_1 = grid[0:17,0:17]\n",
    "    diag_down_2 = grid[1:18,1:18]\n",
    "    diag_down_3 = grid[2:19,2:19]\n",
    "    diag_down_4 = grid[3:20,3:20]\n",
    "    diag_down_prod = np.amax(diag_down_1 * diag_down_2 * diag_down_3 * diag_down_4)\n",
    "\n",
    "    #diagonal up products\n",
    "    diag_up_1 = grid[3:20,0:17]\n",
    "    diag_up_2 = grid[2:19,1:18]\n",
    "    diag_up_3 = grid[1:18,2:19]\n",
    "    diag_up_4 = grid[0:17,3:20]\n",
    "    diag_up_prod = np.amax(diag_up_1 * diag_up_2 * diag_up_3 * diag_up_4)\n",
    "    \n",
    "    #printing the largest 4 adjacent numbers product\n",
    "    a = np.amax([vertical_product, horizontal_product, diag_down_prod, diag_up_prod])\n",
    "    return a "
   ]
  },
  {
   "cell_type": "code",
   "execution_count": 210,
   "metadata": {
    "collapsed": false
   },
   "outputs": [
    {
     "name": "stdout",
     "output_type": "stream",
     "text": [
      "1d. Greatest product of four adjacent numbers:  70600674\n"
     ]
    }
   ],
   "source": [
    "print('1d. Greatest product of four adjacent numbers: ',\n",
    "      max_prod(grid))"
   ]
  },
  {
   "cell_type": "code",
   "execution_count": 212,
   "metadata": {
    "collapsed": false
   },
   "outputs": [
    {
     "data": {
      "text/plain": [
       "(20, 17)"
      ]
     },
     "execution_count": 212,
     "metadata": {},
     "output_type": "execute_result"
    }
   ],
   "source": [
    "hori1.shape"
   ]
  },
  {
   "cell_type": "code",
   "execution_count": 215,
   "metadata": {
    "collapsed": false
   },
   "outputs": [
    {
     "data": {
      "text/plain": [
       "(17, 17)"
      ]
     },
     "execution_count": 215,
     "metadata": {},
     "output_type": "execute_result"
    }
   ],
   "source": [
    "diag_up_1.shape"
   ]
  },
  {
   "cell_type": "code",
   "execution_count": null,
   "metadata": {
    "collapsed": true
   },
   "outputs": [],
   "source": []
  }
 ],
 "metadata": {
  "anaconda-cloud": {},
  "kernelspec": {
   "display_name": "Python [conda root]",
   "language": "python",
   "name": "conda-root-py"
  },
  "language_info": {
   "codemirror_mode": {
    "name": "ipython",
    "version": 3
   },
   "file_extension": ".py",
   "mimetype": "text/x-python",
   "name": "python",
   "nbconvert_exporter": "python",
   "pygments_lexer": "ipython3",
   "version": "3.5.2"
  }
 },
 "nbformat": 4,
 "nbformat_minor": 1
}
