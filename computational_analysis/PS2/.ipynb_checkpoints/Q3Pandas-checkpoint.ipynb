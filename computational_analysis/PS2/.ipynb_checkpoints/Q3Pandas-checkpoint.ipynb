{
 "cells": [
  {
   "cell_type": "code",
   "execution_count": 204,
   "metadata": {
    "collapsed": true
   },
   "outputs": [],
   "source": [
    "import pandas as pd\n",
    "import numpy as np"
   ]
  },
  {
   "cell_type": "code",
   "execution_count": 430,
   "metadata": {
    "collapsed": false
   },
   "outputs": [],
   "source": [
    "df = pd.read_csv(\"popagesex2015.csv\", header = 4, \n",
    "                 names=['gender', 'age', 'pop10','pop11','pop12', 'pop13',\n",
    "                        'pop14', 'pop15'],\n",
    "                 converters = {'gender': str}).replace({\"gender\" : {'0': \"both\", '1': \"male\", '2': \"female\"}})[\n",
    "                 pd.read_csv(\"popagesex2015.csv\", header = 4,names=['gender', 'age', 'pop10','pop11','pop12', 'pop13','pop14', 'pop15'])['age']<999\n",
    "                             ].set_index([\"gender\", \"age\"])"
   ]
  },
  {
   "cell_type": "code",
   "execution_count": 429,
   "metadata": {
    "collapsed": false
   },
   "outputs": [
    {
     "data": {
      "text/html": [
       "<div>\n",
       "<table border=\"1\" class=\"dataframe\">\n",
       "  <thead>\n",
       "    <tr style=\"text-align: right;\">\n",
       "      <th></th>\n",
       "      <th>pop10</th>\n",
       "      <th>pop11</th>\n",
       "      <th>pop12</th>\n",
       "      <th>pop13</th>\n",
       "      <th>pop14</th>\n",
       "      <th>pop15</th>\n",
       "    </tr>\n",
       "    <tr>\n",
       "      <th>gender</th>\n",
       "      <th></th>\n",
       "      <th></th>\n",
       "      <th></th>\n",
       "      <th></th>\n",
       "      <th></th>\n",
       "      <th></th>\n",
       "    </tr>\n",
       "  </thead>\n",
       "  <tbody>\n",
       "    <tr>\n",
       "      <th>male</th>\n",
       "      <td>0.491642</td>\n",
       "      <td>0.491763</td>\n",
       "      <td>0.491945</td>\n",
       "      <td>0.492077</td>\n",
       "      <td>0.492166</td>\n",
       "      <td>0.492284</td>\n",
       "    </tr>\n",
       "  </tbody>\n",
       "</table>\n",
       "</div>"
      ],
      "text/plain": [
       "           pop10     pop11     pop12     pop13     pop14     pop15\n",
       "gender                                                            \n",
       "male    0.491642  0.491763  0.491945  0.492077  0.492166  0.492284"
      ]
     },
     "execution_count": 429,
     "metadata": {},
     "output_type": "execute_result"
    }
   ],
   "source": [
    "# Question 3b(ii)\n",
    "df.ix[['male']].groupby(level =['gender']).sum()/df.ix[['male', 'female']].sum()"
   ]
  },
  {
   "cell_type": "code",
   "execution_count": 418,
   "metadata": {
    "collapsed": false
   },
   "outputs": [],
   "source": [
    "# Question 3b(iii)\n",
    "pop_by_age = df.ix['both'].sum(axis=1).groupby(level = 'age').sum()/df.ix['both'].sum(axis=1).sum()"
   ]
  }
 ],
 "metadata": {
  "anaconda-cloud": {},
  "kernelspec": {
   "display_name": "Python [conda root]",
   "language": "python",
   "name": "conda-root-py"
  },
  "language_info": {
   "codemirror_mode": {
    "name": "ipython",
    "version": 3
   },
   "file_extension": ".py",
   "mimetype": "text/x-python",
   "name": "python",
   "nbconvert_exporter": "python",
   "pygments_lexer": "ipython3",
   "version": "3.5.2"
  }
 },
 "nbformat": 4,
 "nbformat_minor": 1
}
